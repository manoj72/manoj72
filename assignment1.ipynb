{
  "nbformat": 4,
  "nbformat_minor": 0,
  "metadata": {
    "colab": {
      "name": "assignment1.ipynb",
      "provenance": [],
      "collapsed_sections": []
    },
    "kernelspec": {
      "name": "python3",
      "display_name": "Python 3"
    }
  },
  "cells": [
    {
      "cell_type": "code",
      "metadata": {
        "id": "IExYF5BL7TgX",
        "colab_type": "code",
        "colab": {}
      },
      "source": [
        "# question 1:\n",
        "n=2000\n",
        "m=3200\n",
        "for i in range(n-1,m+1,1):\n",
        "  if i%7==0 and i%5!=0:\n",
        "    print(i,end=\",\")"
      ],
      "execution_count": 0,
      "outputs": []
    },
    {
      "cell_type": "code",
      "metadata": {
        "id": "H7Dk77MTDne2",
        "colab_type": "code",
        "colab": {
          "base_uri": "https://localhost:8080/",
          "height": 87
        },
        "outputId": "eec334b1-617f-452d-e21b-48ecca321113"
      },
      "source": [
        "# question 2\n",
        "fname=input('enter your first name: ')\n",
        "lname=input('enter your last name: ')\n",
        "print(fname[::-1],lname[::-1])\n",
        "print(lname[::-1],fname[::-1])"
      ],
      "execution_count": 24,
      "outputs": [
        {
          "output_type": "stream",
          "text": [
            "enter your first name: manoj\n",
            "enter your last name: bhatt\n",
            "jonam ttahb\n",
            "ttahb jonam\n"
          ],
          "name": "stdout"
        }
      ]
    },
    {
      "cell_type": "code",
      "metadata": {
        "id": "MuwFEpCD-B8y",
        "colab_type": "code",
        "colab": {}
      },
      "source": [
        "# question 3\n",
        "d=int(input(\"enter the diameter of a sphere\"))\n",
        "r=d/2;\n",
        "volume=4/3*3.14*r**3\n",
        "print(\"volue of the sphere is\" ,volume)"
      ],
      "execution_count": 0,
      "outputs": []
    },
    {
      "cell_type": "code",
      "metadata": {
        "id": "D8LfmpGYD0cY",
        "colab_type": "code",
        "colab": {}
      },
      "source": [
        "# question 4\n",
        "number=(input(\"enter comma separated numbers\"))\n",
        "number=number.split(',')\n",
        "li=[]\n",
        "for i in number:\n",
        "  li.append(int(i))\n",
        "print(li)"
      ],
      "execution_count": 0,
      "outputs": []
    },
    {
      "cell_type": "code",
      "metadata": {
        "id": "nA8RTTlE-3Ga",
        "colab_type": "code",
        "colab": {}
      },
      "source": [
        "# question 5\n",
        "n=int(input(\"enter the size of pattern\"))\n",
        "for i in range(1,n+1):\n",
        "  for j in range(1,i+1):\n",
        "    print('*',end='')\n",
        "  print('')\n",
        "for i in range(1,n):\n",
        "  for j in range(0,n-i,1):\n",
        "    print('*',end=\"\")\n",
        "  print('')"
      ],
      "execution_count": 0,
      "outputs": []
    },
    {
      "cell_type": "code",
      "metadata": {
        "id": "h-nmeSz2BCi_",
        "colab_type": "code",
        "colab": {}
      },
      "source": [
        "# question 6\n",
        "word=input(\"enter a word which you want to reverse\")\n",
        "print(word)\n",
        "print(word[::-1])"
      ],
      "execution_count": 0,
      "outputs": []
    },
    {
      "cell_type": "code",
      "metadata": {
        "id": "Ee7NNH88ByEu",
        "colab_type": "code",
        "colab": {}
      },
      "source": [
        "# question 7\n",
        "print('WE , THE PEOPLE OF INDIA,')\n",
        "print('     having solemnly resolve to constitute india into a SOVEREIGN,!')\n",
        "print('           SOCIALIST,SECULAR,DEMOCRATIC REPUBLIC')\n",
        "print('             and to secure to all its citizens')"
      ],
      "execution_count": 0,
      "outputs": []
    },
    {
      "cell_type": "code",
      "metadata": {
        "id": "dp9MwREEDeb4",
        "colab_type": "code",
        "colab": {}
      },
      "source": [
        ""
      ],
      "execution_count": 0,
      "outputs": []
    }
  ]
}