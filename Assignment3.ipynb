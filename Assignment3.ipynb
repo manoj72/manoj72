{
  "nbformat": 4,
  "nbformat_minor": 0,
  "metadata": {
    "colab": {
      "name": "Assignment3.ipynb",
      "provenance": [],
      "authorship_tag": "ABX9TyOQyn2+qVd0DdJB9fAhOglh",
      "include_colab_link": true
    },
    "kernelspec": {
      "name": "python3",
      "display_name": "Python 3"
    }
  },
  "cells": [
    {
      "cell_type": "markdown",
      "metadata": {
        "id": "view-in-github",
        "colab_type": "text"
      },
      "source": [
        "<a href=\"https://colab.research.google.com/github/manoj72/manoj72/blob/master/Assignment3.ipynb\" target=\"_parent\"><img src=\"https://colab.research.google.com/assets/colab-badge.svg\" alt=\"Open In Colab\"/></a>"
      ]
    },
    {
      "cell_type": "code",
      "metadata": {
        "id": "DdgC5CQFMt4M",
        "colab_type": "code",
        "colab": {
          "base_uri": "https://localhost:8080/",
          "height": 35
        },
        "outputId": "ad50f1cb-ed96-49f7-f714-516593f1f3e2"
      },
      "source": [
        "# ques 1.1\n",
        "def x(a,i):\n",
        "  add1=a+i;\n",
        "  return add1\n",
        "def myreduce(x,y):\n",
        "  a=0\n",
        "  for i in y:\n",
        "    a=(x(a,i))\n",
        "  return a\n",
        "l=[4,7,3,6,5,4]\n",
        "b=myreduce(x,l)\n",
        "print(b)"
      ],
      "execution_count": 3,
      "outputs": [
        {
          "output_type": "stream",
          "text": [
            "29\n"
          ],
          "name": "stdout"
        }
      ]
    },
    {
      "cell_type": "code",
      "metadata": {
        "id": "RolOC3HENmBI",
        "colab_type": "code",
        "colab": {
          "base_uri": "https://localhost:8080/",
          "height": 87
        },
        "outputId": "d8a3d2c8-09ad-4a13-ef39-63d82c4cc84b"
      },
      "source": [
        "# ques 1.2\n",
        "def x(i):\n",
        "  if i>4:\n",
        "    return True\n",
        "  else :\n",
        "    return False\n",
        "    \n",
        "def myfilter(x,y):\n",
        "  result=[]\n",
        "  for i in y:\n",
        "    a=x(i)\n",
        "    if(a==True):\n",
        "      result.append(i)\n",
        "  return result\n",
        "l=[4,3,9,5,7,6]\n",
        "b=myfilter(x,l)\n",
        "for i in b:\n",
        "  print(i)"
      ],
      "execution_count": 7,
      "outputs": [
        {
          "output_type": "stream",
          "text": [
            "9\n",
            "5\n",
            "7\n",
            "6\n"
          ],
          "name": "stdout"
        }
      ]
    },
    {
      "cell_type": "code",
      "metadata": {
        "id": "TDQRmMlqO7ZE",
        "colab_type": "code",
        "colab": {
          "base_uri": "https://localhost:8080/",
          "height": 87
        },
        "outputId": "d83555e3-cb40-4944-a707-f742ed4ece02"
      },
      "source": [
        "# ques 2\n",
        "l1=['x','y','z']\n",
        "new_l1=[i*j for i in l1 for j in range(1,5)]\n",
        "new_l2=[i*j for i in range(1,5) for j in l1]\n",
        "print(new_l1)\n",
        "print(new_l2)\n",
        "new_l3=[[[i+j] for i in range(3) for j in range(2,5)] , [[i+j for i in range(4)] for j in range(2,6)]]\n",
        "print(new_l3)\n",
        "new_l4=[(i,j) for i in range(1,4) for j in range(1,4)]\n",
        "print(new_l4)"
      ],
      "execution_count": 18,
      "outputs": [
        {
          "output_type": "stream",
          "text": [
            "['x', 'xx', 'xxx', 'xxxx', 'y', 'yy', 'yyy', 'yyyy', 'z', 'zz', 'zzz', 'zzzz']\n",
            "['x', 'y', 'z', 'xx', 'yy', 'zz', 'xxx', 'yyy', 'zzz', 'xxxx', 'yyyy', 'zzzz']\n",
            "[[[2], [3], [4], [3], [4], [5], [4], [5], [6]], [[2, 3, 4, 5], [3, 4, 5, 6], [4, 5, 6, 7], [5, 6, 7, 8]]]\n",
            "[(1, 1), (1, 2), (1, 3), (2, 1), (2, 2), (2, 3), (3, 1), (3, 2), (3, 3)]\n"
          ],
          "name": "stdout"
        }
      ]
    }
  ]
}