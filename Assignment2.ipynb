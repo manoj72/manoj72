{
  "nbformat": 4,
  "nbformat_minor": 0,
  "metadata": {
    "colab": {
      "name": "Assignment2.ipynb",
      "provenance": [],
      "collapsed_sections": []
    },
    "kernelspec": {
      "name": "python3",
      "display_name": "Python 3"
    }
  },
  "cells": [
    {
      "cell_type": "code",
      "metadata": {
        "id": "uZyaRSUX2Z95",
        "colab_type": "code",
        "colab": {}
      },
      "source": [
        "# Question 1\n",
        "n=int(input(\"enter the size of patteren\"))\n",
        "for i in range(1,n+1):\n",
        "  for j in range(1,i+1):\n",
        "    print('*',end=\"\")\n",
        "  print()\n",
        "for i in range(1,n+1):\n",
        " for j in range(1,n+1-i):\n",
        "    print('*',end=\"\")\n",
        " print()"
      ],
      "execution_count": 0,
      "outputs": []
    },
    {
      "cell_type": "code",
      "metadata": {
        "id": "ZZhXyPdl5Eq0",
        "colab_type": "code",
        "colab": {}
      },
      "source": [
        "# Questiion 2\n",
        "str1=input(\"enter any input which you wants to reverse\")\n",
        "print(str1[::-1])"
      ],
      "execution_count": 0,
      "outputs": []
    }
  ]
}