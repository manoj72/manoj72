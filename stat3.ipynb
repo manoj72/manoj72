{
 "cells": [
  {
   "cell_type": "code",
   "execution_count": null,
   "metadata": {},
   "outputs": [],
   "source": [
    "Ques1\n",
    "Sample_count = 36\n",
    "Sample_Mean = 108\n",
    "Population_Mean = 100\n",
    "Population_sigma = 15 (Standard deviation)\n",
    "The population mean is 100 so we have define our hypotheses based on that.\n",
    "Null Hypothesis is H0:Mean=100\n",
    "Alternative Hypothesis is H1:≠100\n",
    "There is no information provided about the significance level or confidence i\n",
    "nterval, so lets assume it to be 0.05 or 95%\n",
    "which is commonly used.\n",
    "Lets calculate Z score\n",
    "z=(Sample_Mean - Population_Mean)/(Population_sigma/sqrt(Sample_count))\n",
    "z=3.2\n",
    "By looking this value up in z table, we get a value of 0.9993\n",
    "Which implies the probability of having value less than 108 is 99.93% a\n",
    "nd more than or equals to 108 is 0.007\n",
    "It is less than 0.05 so we will reject the Null hypothesis i.e. there i\n",
    "s raw cornstarch effect"
   ]
  },
  {
   "cell_type": "code",
   "execution_count": null,
   "metadata": {},
   "outputs": [],
   "source": [
    "Ques 2\n",
    "let :-\n",
    "P1 = Proportion of Republican voters in the first state\n",
    "P2 = Proportion of Republican voters in the second state\n",
    "P_1 = Proportion of Republican voters in the sample from the first state\n",
    "P_2 = Proportion of Republican voters in the sample from the second state.\n",
    "N1 = The number of voters sampled from the first state\n",
    "N1 = 100\n",
    "N2=The number of voters sampled from the second state\n",
    "N2 = 100\n",
    "P1 = 0.52\n",
    "Q1=(1 - P1), the proportion on non republican voters in first state\n",
    "Q1 = 0.48\n",
    "P2 = 0.47\n",
    "Q2=(1 - P2), the proportion on non republican voters in second state\n",
    "Q2 = 0.53\n",
    "The mean of the difference in sample proportions or the expected value E[P_1-\n",
    "P_2]\n",
    "mu =P1 - P2\n",
    "The standard deviation of the difference (Std)\n",
    "std = sqrt(((P1 * Q1 ) / N1) + ((P2 * Q2) /N2))\n",
    "        mu= 0.050000000000000044\n",
    "      std=0.07061869440877536\n",
    "This problem requires us to find the probability that P_1 is less than P_2\n",
    "This is equivalent to finding the probability that P_1 - P_2 < 0\n",
    "x = 0\n",
    "To find this probability, we need to transform the random variable (P_1 - P_\n",
    "2) into a z-score.\n",
    "Z= Z_score(P_1,P_2)\n",
    "That transformation appears below.\n",
    "Z = (x - mu)/std\n",
    "Z_score(P_1,P_2): -0.7080278164104213\n",
    "The probability that the survey will show a greater percentage of Republican\n",
    "voters in the second state than in the first state is 0.24."
   ]
  },
  {
   "cell_type": "code",
   "execution_count": null,
   "metadata": {},
   "outputs": [],
   "source": [
    "Ques 3\n",
    "The z score tells you how many standard deviations from the mean your score i\n",
    "s\n",
    "My score =x\n",
    "x = 1100\n",
    "Population Mean =mu\n",
    "mu = 1026\n",
    "population standard deviation =sd\n",
    "sd = 209\n",
    "z = ( x - mu)/sd\n",
    "Z Score =0.35406698564593303\n",
    "The above calculation shows that my score is 0.35 standard deviations above t\n",
    "he mean"
   ]
  }
 ],
 "metadata": {
  "kernelspec": {
   "display_name": "Python 3",
   "language": "python",
   "name": "python3"
  },
  "language_info": {
   "codemirror_mode": {
    "name": "ipython",
    "version": 3
   },
   "file_extension": ".py",
   "mimetype": "text/x-python",
   "name": "python",
   "nbconvert_exporter": "python",
   "pygments_lexer": "ipython3",
   "version": "3.7.6"
  }
 },
 "nbformat": 4,
 "nbformat_minor": 4
}
